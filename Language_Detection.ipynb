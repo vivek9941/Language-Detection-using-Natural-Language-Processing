{
  "nbformat": 4,
  "nbformat_minor": 0,
  "metadata": {
    "colab": {
      "provenance": []
    },
    "kernelspec": {
      "name": "python3",
      "display_name": "Python 3"
    },
    "language_info": {
      "name": "python"
    }
  },
  "cells": [
    {
      "cell_type": "code",
      "execution_count": 1,
      "metadata": {
        "id": "feUlMiK11aM2"
      },
      "outputs": [],
      "source": [
        "import string\n",
        "import re\n",
        "import codecs\n",
        "import numpy as np\n",
        "import pandas as pd\n",
        "import seaborn as sns\n",
        "import matplotlib.pyplot as plt\n",
        "from sklearn import feature_extraction\n",
        "from sklearn import linear_model\n",
        "from sklearn.naive_bayes import MultinomialNB\n",
        "from sklearn.linear_model import LogisticRegression\n",
        "from sklearn.tree import DecisionTreeClassifier\n",
        "from sklearn.ensemble import RandomForestClassifier\n",
        "from sklearn import pipeline\n",
        "from sklearn.model_selection import train_test_split\n",
        "from sklearn import metrics\n",
        "import itertools"
      ]
    },
    {
      "cell_type": "code",
      "source": [
        "bg_data = pd.read_csv('/content/drive/MyDrive/Language Detection/europarl-v7.bg-en.bg', sep='utf-8', header=None, names=['Sentence'], engine='python')\n",
        "cs_data = pd.read_csv('/content/drive/MyDrive/Language Detection/europarl-v7.cs-en.cs', sep='utf-8', header=None, names=['Sentence'], engine='python')\n",
        "da_data = pd.read_csv('/content/drive/MyDrive/Language Detection/europarl-v7.da-en.da', sep='utf-8', header=None, names=['Sentence'], engine='python')\n",
        "de_data = pd.read_csv('/content/drive/MyDrive/Language Detection/europarl-v7.de-en.de', sep='utf-8', header=None, names=['Sentence'], engine='python')\n",
        "el_data = pd.read_csv('/content/drive/MyDrive/Language Detection/europarl-v7.el-en.el', sep='utf-8', header=None, names=['Sentence'], engine='python')\n",
        "et_data = pd.read_csv('/content/drive/MyDrive/Language Detection/europarl-v7.et-en.et', sep='utf-8', header=None, names=['Sentence'], engine='python')\n",
        "fi_data = pd.read_csv('/content/drive/MyDrive/Language Detection/europarl-v7.fi-en.fi', sep='utf-8', header=None, names=['Sentence'], engine='python')\n",
        "fr_data = pd.read_csv('/content/drive/MyDrive/Language Detection/europarl-v7.fr-en.fr', sep='utf-8', header=None, names=['Sentence'], engine='python')\n",
        "hu_data = pd.read_csv('/content/drive/MyDrive/Language Detection/europarl-v7.hu-en.hu', sep='utf-8', header=None, names=['Sentence'], engine='python')\n",
        "it_data = pd.read_csv('/content/drive/MyDrive/Language Detection/europarl-v7.it-en.it', sep='utf-8', header=None, names=['Sentence'], engine='python')\n",
        "lt_data = pd.read_csv('/content/drive/MyDrive/Language Detection/europarl-v7.lt-en.lt', sep='utf-8', header=None, names=['Sentence'], engine='python')\n",
        "lv_data = pd.read_csv('/content/drive/MyDrive/Language Detection/europarl-v7.lv-en.lv', sep='utf-8', header=None, names=['Sentence'], engine='python')\n",
        "nl_data = pd.read_csv('/content/drive/MyDrive/Language Detection/europarl-v7.nl-en.nl', sep='utf-8', header=None, names=['Sentence'], engine='python')\n",
        "pl_data = pd.read_csv('/content/drive/MyDrive/Language Detection/europarl-v7.pl-en.pl', sep='utf-8', header=None, names=['Sentence'], engine='python')\n",
        "pt_data = pd.read_csv('/content/drive/MyDrive/Language Detection/europarl-v7.pt-en.pt', sep='utf-8', header=None, names=['Sentence'], engine='python')\n",
        "ro_data = pd.read_csv('/content/drive/MyDrive/Language Detection/europarl-v7.ro-en.ro', sep='utf-8', header=None, names=['Sentence'], engine='python')\n",
        "sk_data = pd.read_csv('/content/drive/MyDrive/Language Detection/europarl-v7.sk-en.sk', sep='utf-8', header=None, names=['Sentence'], engine='python')\n",
        "sl_data = pd.read_csv('/content/drive/MyDrive/Language Detection/europarl-v7.sl-en.sl', sep='utf-8', header=None, names=['Sentence'], engine='python')\n",
        "sv_data = pd.read_csv('/content/drive/MyDrive/Language Detection/europarl-v7.sv-en.sv', sep='utf-8', header=None, names=['Sentence'], engine='python')"
      ],
      "metadata": {
        "id": "2960JLxmXeGe"
      },
      "execution_count": 12,
      "outputs": []
    },
    {
      "cell_type": "code",
      "source": [
        "bg_data = bg_data.sample(6000).reset_index(drop=True)\n",
        "cs_data = cs_data.sample(6000).reset_index(drop=True)\n",
        "da_data = da_data.sample(6000).reset_index(drop=True)\n",
        "de_data = de_data.sample(6000).reset_index(drop=True)\n",
        "el_data = el_data.sample(6000).reset_index(drop=True)\n",
        "et_data = et_data.sample(6000).reset_index(drop=True)\n",
        "fi_data = fi_data.sample(6000).reset_index(drop=True)\n",
        "fr_data = fr_data.sample(6000).reset_index(drop=True)\n",
        "hu_data = hu_data.sample(6000).reset_index(drop=True)\n",
        "it_data = it_data.sample(6000).reset_index(drop=True)\n",
        "lt_data = lt_data.sample(6000).reset_index(drop=True)\n",
        "lv_data = lv_data.sample(6000).reset_index(drop=True)\n",
        "nl_data = nl_data.sample(6000).reset_index(drop=True)\n",
        "pl_data = pl_data.sample(6000).reset_index(drop=True)\n",
        "pt_data = pt_data.sample(6000).reset_index(drop=True)\n",
        "ro_data = ro_data.sample(6000).reset_index(drop=True)\n",
        "sk_data = sk_data.sample(6000).reset_index(drop=True)\n",
        "sl_data = sl_data.sample(6000).reset_index(drop=True)\n",
        "sv_data = sv_data.sample(6000).reset_index(drop=True)"
      ],
      "metadata": {
        "id": "-XbTXQsi6psd"
      },
      "execution_count": 13,
      "outputs": []
    },
    {
      "cell_type": "code",
      "source": [
        "translate_table = {}\n",
        "for char in string.punctuation:\n",
        "    translate_table[ord(char)] = None"
      ],
      "metadata": {
        "id": "ZMK8eSk3beZo"
      },
      "execution_count": 14,
      "outputs": []
    },
    {
      "cell_type": "code",
      "source": [
        "languages = ['Bulgarian', 'Czech', 'Danish', 'German', 'Greek', 'Estonian', 'Finnish', 'French', 'Hungarian',\n",
        "             'Italian', 'Lithuanian', 'Latvian', 'Dutch', 'Polish', 'Portuguese', 'Romanian', 'Slovak', 'Slovenian', 'Swedish', ]"
      ],
      "metadata": {
        "id": "1yQXUZ5tMLcR"
      },
      "execution_count": 15,
      "outputs": []
    },
    {
      "cell_type": "code",
      "source": [
        "y = []\n",
        "for language in languages:\n",
        "    y += [language]*6000\n",
        "y = pd.DataFrame({\"Language\" : y})"
      ],
      "metadata": {
        "id": "vWy4RkGMMuLX"
      },
      "execution_count": 16,
      "outputs": []
    },
    {
      "cell_type": "code",
      "source": [
        "all_data = [bg_data, cs_data, da_data, de_data, el_data, et_data, fi_data, fr_data, hu_data,\n",
        "            it_data, lt_data, lv_data, nl_data, pl_data, pt_data, ro_data, sk_data, sl_data, sv_data]\n",
        "data_combined = pd.concat(all_data).reset_index(drop=True)"
      ],
      "metadata": {
        "id": "sZmCZ4LoNtv9"
      },
      "execution_count": 17,
      "outputs": []
    },
    {
      "cell_type": "code",
      "source": [
        "def preprocess(data_combined):\n",
        "    X = []\n",
        "    data_combined = pd.DataFrame(data_combined)\n",
        "    for i, line in data_combined.iterrows():\n",
        "        line = line['Sentence']\n",
        "        if line:\n",
        "            line = line.lower()\n",
        "            line = re.sub(r\"\\d+\", \"\", line)\n",
        "            line = line.translate(translate_table)\n",
        "            X.append(line)\n",
        "\n",
        "    return X"
      ],
      "metadata": {
        "id": "nl0_KXYgntyZ"
      },
      "execution_count": 18,
      "outputs": []
    },
    {
      "cell_type": "code",
      "source": [
        "data_combined = data_combined.apply(preprocess)"
      ],
      "metadata": {
        "id": "uVIuAPCgLcTM"
      },
      "execution_count": 19,
      "outputs": []
    },
    {
      "cell_type": "code",
      "source": [
        "data = pd.concat([data_combined, y], axis=1)"
      ],
      "metadata": {
        "id": "Sby9mgvcLcO8"
      },
      "execution_count": 20,
      "outputs": []
    },
    {
      "cell_type": "code",
      "source": [
        "data = data.drop_duplicates()"
      ],
      "metadata": {
        "id": "h5XtlovP9p-3"
      },
      "execution_count": 21,
      "outputs": []
    },
    {
      "cell_type": "code",
      "source": [
        "x = data.iloc[:,0]\n",
        "y = data.iloc[:,1]"
      ],
      "metadata": {
        "id": "FSwpQ94dLcJJ"
      },
      "execution_count": 22,
      "outputs": []
    },
    {
      "cell_type": "code",
      "source": [
        "x_train, x_test, y_train, y_test = train_test_split(x, y, test_size = 0.25, random_state=27)"
      ],
      "metadata": {
        "id": "sR4VSRTRatrV"
      },
      "execution_count": 23,
      "outputs": []
    },
    {
      "cell_type": "code",
      "source": [
        "len(x_train), len(x_test), len(y_train), len(y_test)"
      ],
      "metadata": {
        "colab": {
          "base_uri": "https://localhost:8080/"
        },
        "id": "SEP9lQ-7atoG",
        "outputId": "412e8f67-c012-4080-b1ea-eb7ae6eb36f3"
      },
      "execution_count": 24,
      "outputs": [
        {
          "output_type": "execute_result",
          "data": {
            "text/plain": [
              "(84412, 28138, 84412, 28138)"
            ]
          },
          "metadata": {},
          "execution_count": 24
        }
      ]
    },
    {
      "cell_type": "code",
      "source": [
        "vectorizer = feature_extraction.text.TfidfVectorizer(ngram_range=(1,3), analyzer='word')"
      ],
      "metadata": {
        "id": "wTbQtG2katkY"
      },
      "execution_count": 36,
      "outputs": []
    },
    {
      "cell_type": "markdown",
      "source": [
        "# Multinomial Naive Bayes"
      ],
      "metadata": {
        "id": "MoErc5uEF_1D"
      }
    },
    {
      "cell_type": "code",
      "source": [
        "pipe_mnb = pipeline.Pipeline([\n",
        "    ('vectorizer', vectorizer),\n",
        "    ('clf', MultinomialNB())\n",
        "])"
      ],
      "metadata": {
        "id": "X20N1yxgj-dh"
      },
      "execution_count": 32,
      "outputs": []
    },
    {
      "cell_type": "code",
      "source": [
        "pipe_mnb.fit(x_train, y_train)"
      ],
      "metadata": {
        "colab": {
          "base_uri": "https://localhost:8080/",
          "height": 125
        },
        "id": "UgNHiXvGkC1M",
        "outputId": "bcd454e2-5f48-43c5-979a-1341e8d98806"
      },
      "execution_count": 33,
      "outputs": [
        {
          "output_type": "execute_result",
          "data": {
            "text/plain": [
              "Pipeline(steps=[('vectorizer',\n",
              "                 TfidfVectorizer(analyzer='char', ngram_range=(1, 3))),\n",
              "                ('clf', MultinomialNB())])"
            ],
            "text/html": [
              "<style>#sk-container-id-2 {color: black;background-color: white;}#sk-container-id-2 pre{padding: 0;}#sk-container-id-2 div.sk-toggleable {background-color: white;}#sk-container-id-2 label.sk-toggleable__label {cursor: pointer;display: block;width: 100%;margin-bottom: 0;padding: 0.3em;box-sizing: border-box;text-align: center;}#sk-container-id-2 label.sk-toggleable__label-arrow:before {content: \"▸\";float: left;margin-right: 0.25em;color: #696969;}#sk-container-id-2 label.sk-toggleable__label-arrow:hover:before {color: black;}#sk-container-id-2 div.sk-estimator:hover label.sk-toggleable__label-arrow:before {color: black;}#sk-container-id-2 div.sk-toggleable__content {max-height: 0;max-width: 0;overflow: hidden;text-align: left;background-color: #f0f8ff;}#sk-container-id-2 div.sk-toggleable__content pre {margin: 0.2em;color: black;border-radius: 0.25em;background-color: #f0f8ff;}#sk-container-id-2 input.sk-toggleable__control:checked~div.sk-toggleable__content {max-height: 200px;max-width: 100%;overflow: auto;}#sk-container-id-2 input.sk-toggleable__control:checked~label.sk-toggleable__label-arrow:before {content: \"▾\";}#sk-container-id-2 div.sk-estimator input.sk-toggleable__control:checked~label.sk-toggleable__label {background-color: #d4ebff;}#sk-container-id-2 div.sk-label input.sk-toggleable__control:checked~label.sk-toggleable__label {background-color: #d4ebff;}#sk-container-id-2 input.sk-hidden--visually {border: 0;clip: rect(1px 1px 1px 1px);clip: rect(1px, 1px, 1px, 1px);height: 1px;margin: -1px;overflow: hidden;padding: 0;position: absolute;width: 1px;}#sk-container-id-2 div.sk-estimator {font-family: monospace;background-color: #f0f8ff;border: 1px dotted black;border-radius: 0.25em;box-sizing: border-box;margin-bottom: 0.5em;}#sk-container-id-2 div.sk-estimator:hover {background-color: #d4ebff;}#sk-container-id-2 div.sk-parallel-item::after {content: \"\";width: 100%;border-bottom: 1px solid gray;flex-grow: 1;}#sk-container-id-2 div.sk-label:hover label.sk-toggleable__label {background-color: #d4ebff;}#sk-container-id-2 div.sk-serial::before {content: \"\";position: absolute;border-left: 1px solid gray;box-sizing: border-box;top: 0;bottom: 0;left: 50%;z-index: 0;}#sk-container-id-2 div.sk-serial {display: flex;flex-direction: column;align-items: center;background-color: white;padding-right: 0.2em;padding-left: 0.2em;position: relative;}#sk-container-id-2 div.sk-item {position: relative;z-index: 1;}#sk-container-id-2 div.sk-parallel {display: flex;align-items: stretch;justify-content: center;background-color: white;position: relative;}#sk-container-id-2 div.sk-item::before, #sk-container-id-2 div.sk-parallel-item::before {content: \"\";position: absolute;border-left: 1px solid gray;box-sizing: border-box;top: 0;bottom: 0;left: 50%;z-index: -1;}#sk-container-id-2 div.sk-parallel-item {display: flex;flex-direction: column;z-index: 1;position: relative;background-color: white;}#sk-container-id-2 div.sk-parallel-item:first-child::after {align-self: flex-end;width: 50%;}#sk-container-id-2 div.sk-parallel-item:last-child::after {align-self: flex-start;width: 50%;}#sk-container-id-2 div.sk-parallel-item:only-child::after {width: 0;}#sk-container-id-2 div.sk-dashed-wrapped {border: 1px dashed gray;margin: 0 0.4em 0.5em 0.4em;box-sizing: border-box;padding-bottom: 0.4em;background-color: white;}#sk-container-id-2 div.sk-label label {font-family: monospace;font-weight: bold;display: inline-block;line-height: 1.2em;}#sk-container-id-2 div.sk-label-container {text-align: center;}#sk-container-id-2 div.sk-container {/* jupyter's `normalize.less` sets `[hidden] { display: none; }` but bootstrap.min.css set `[hidden] { display: none !important; }` so we also need the `!important` here to be able to override the default hidden behavior on the sphinx rendered scikit-learn.org. See: https://github.com/scikit-learn/scikit-learn/issues/21755 */display: inline-block !important;position: relative;}#sk-container-id-2 div.sk-text-repr-fallback {display: none;}</style><div id=\"sk-container-id-2\" class=\"sk-top-container\"><div class=\"sk-text-repr-fallback\"><pre>Pipeline(steps=[(&#x27;vectorizer&#x27;,\n",
              "                 TfidfVectorizer(analyzer=&#x27;char&#x27;, ngram_range=(1, 3))),\n",
              "                (&#x27;clf&#x27;, MultinomialNB())])</pre><b>In a Jupyter environment, please rerun this cell to show the HTML representation or trust the notebook. <br />On GitHub, the HTML representation is unable to render, please try loading this page with nbviewer.org.</b></div><div class=\"sk-container\" hidden><div class=\"sk-item sk-dashed-wrapped\"><div class=\"sk-label-container\"><div class=\"sk-label sk-toggleable\"><input class=\"sk-toggleable__control sk-hidden--visually\" id=\"sk-estimator-id-4\" type=\"checkbox\" ><label for=\"sk-estimator-id-4\" class=\"sk-toggleable__label sk-toggleable__label-arrow\">Pipeline</label><div class=\"sk-toggleable__content\"><pre>Pipeline(steps=[(&#x27;vectorizer&#x27;,\n",
              "                 TfidfVectorizer(analyzer=&#x27;char&#x27;, ngram_range=(1, 3))),\n",
              "                (&#x27;clf&#x27;, MultinomialNB())])</pre></div></div></div><div class=\"sk-serial\"><div class=\"sk-item\"><div class=\"sk-estimator sk-toggleable\"><input class=\"sk-toggleable__control sk-hidden--visually\" id=\"sk-estimator-id-5\" type=\"checkbox\" ><label for=\"sk-estimator-id-5\" class=\"sk-toggleable__label sk-toggleable__label-arrow\">TfidfVectorizer</label><div class=\"sk-toggleable__content\"><pre>TfidfVectorizer(analyzer=&#x27;char&#x27;, ngram_range=(1, 3))</pre></div></div></div><div class=\"sk-item\"><div class=\"sk-estimator sk-toggleable\"><input class=\"sk-toggleable__control sk-hidden--visually\" id=\"sk-estimator-id-6\" type=\"checkbox\" ><label for=\"sk-estimator-id-6\" class=\"sk-toggleable__label sk-toggleable__label-arrow\">MultinomialNB</label><div class=\"sk-toggleable__content\"><pre>MultinomialNB()</pre></div></div></div></div></div></div></div>"
            ]
          },
          "metadata": {},
          "execution_count": 33
        }
      ]
    },
    {
      "cell_type": "code",
      "source": [
        "pred_mnb = pipe_mnb.predict(x_test)"
      ],
      "metadata": {
        "id": "wJZfVVgEkKG0"
      },
      "execution_count": 34,
      "outputs": []
    },
    {
      "cell_type": "code",
      "source": [
        "print(metrics.accuracy_score(y_test, pred_mnb)*100)\n",
        "sns.heatmap(metrics.confusion_matrix(y_test, pred_mnb))"
      ],
      "metadata": {
        "colab": {
          "base_uri": "https://localhost:8080/",
          "height": 466
        },
        "id": "di1yjyw4kTFY",
        "outputId": "b0c4972e-7dcc-4ca9-cbf4-702a3d8c1f4d"
      },
      "execution_count": 35,
      "outputs": [
        {
          "output_type": "stream",
          "name": "stdout",
          "text": [
            "99.75122609993603\n"
          ]
        },
        {
          "output_type": "execute_result",
          "data": {
            "text/plain": [
              "<Axes: >"
            ]
          },
          "metadata": {},
          "execution_count": 35
        },
        {
          "output_type": "display_data",
          "data": {
            "text/plain": [
              "<Figure size 640x480 with 2 Axes>"
            ],
            "image/png": "[encoded data removed]"
          },
          "metadata": {}
        }
      ]
    },
    {
      "cell_type": "markdown",
      "source": [
        "# Decision Tree Classifier"
      ],
      "metadata": {
        "id": "onpzkjH6F7m1"
      }
    },
    {
      "cell_type": "code",
      "source": [
        "pipe_dtc = pipeline.Pipeline([\n",
        "    ('vectorizer', vectorizer),\n",
        "    ('dtc' , DecisionTreeClassifier())\n",
        "])"
      ],
      "metadata": {
        "id": "WxehLeAdatdn"
      },
      "execution_count": 37,
      "outputs": []
    },
    {
      "cell_type": "code",
      "source": [
        "pipe_dtc.fit(x_train, y_train)"
      ],
      "metadata": {
        "colab": {
          "base_uri": "https://localhost:8080/",
          "height": 125
        },
        "id": "2TRxGEKkatXr",
        "outputId": "9987b37a-bc4e-4c70-84c5-527031052b8a"
      },
      "execution_count": 38,
      "outputs": [
        {
          "output_type": "execute_result",
          "data": {
            "text/plain": [
              "Pipeline(steps=[('vectorizer', TfidfVectorizer(ngram_range=(1, 3))),\n",
              "                ('dtc', DecisionTreeClassifier())])"
            ],
            "text/html": [
              "<style>#sk-container-id-3 {color: black;background-color: white;}#sk-container-id-3 pre{padding: 0;}#sk-container-id-3 div.sk-toggleable {background-color: white;}#sk-container-id-3 label.sk-toggleable__label {cursor: pointer;display: block;width: 100%;margin-bottom: 0;padding: 0.3em;box-sizing: border-box;text-align: center;}#sk-container-id-3 label.sk-toggleable__label-arrow:before {content: \"▸\";float: left;margin-right: 0.25em;color: #696969;}#sk-container-id-3 label.sk-toggleable__label-arrow:hover:before {color: black;}#sk-container-id-3 div.sk-estimator:hover label.sk-toggleable__label-arrow:before {color: black;}#sk-container-id-3 div.sk-toggleable__content {max-height: 0;max-width: 0;overflow: hidden;text-align: left;background-color: #f0f8ff;}#sk-container-id-3 div.sk-toggleable__content pre {margin: 0.2em;color: black;border-radius: 0.25em;background-color: #f0f8ff;}#sk-container-id-3 input.sk-toggleable__control:checked~div.sk-toggleable__content {max-height: 200px;max-width: 100%;overflow: auto;}#sk-container-id-3 input.sk-toggleable__control:checked~label.sk-toggleable__label-arrow:before {content: \"▾\";}#sk-container-id-3 div.sk-estimator input.sk-toggleable__control:checked~label.sk-toggleable__label {background-color: #d4ebff;}#sk-container-id-3 div.sk-label input.sk-toggleable__control:checked~label.sk-toggleable__label {background-color: #d4ebff;}#sk-container-id-3 input.sk-hidden--visually {border: 0;clip: rect(1px 1px 1px 1px);clip: rect(1px, 1px, 1px, 1px);height: 1px;margin: -1px;overflow: hidden;padding: 0;position: absolute;width: 1px;}#sk-container-id-3 div.sk-estimator {font-family: monospace;background-color: #f0f8ff;border: 1px dotted black;border-radius: 0.25em;box-sizing: border-box;margin-bottom: 0.5em;}#sk-container-id-3 div.sk-estimator:hover {background-color: #d4ebff;}#sk-container-id-3 div.sk-parallel-item::after {content: \"\";width: 100%;border-bottom: 1px solid gray;flex-grow: 1;}#sk-container-id-3 div.sk-label:hover label.sk-toggleable__label {background-color: #d4ebff;}#sk-container-id-3 div.sk-serial::before {content: \"\";position: absolute;border-left: 1px solid gray;box-sizing: border-box;top: 0;bottom: 0;left: 50%;z-index: 0;}#sk-container-id-3 div.sk-serial {display: flex;flex-direction: column;align-items: center;background-color: white;padding-right: 0.2em;padding-left: 0.2em;position: relative;}#sk-container-id-3 div.sk-item {position: relative;z-index: 1;}#sk-container-id-3 div.sk-parallel {display: flex;align-items: stretch;justify-content: center;background-color: white;position: relative;}#sk-container-id-3 div.sk-item::before, #sk-container-id-3 div.sk-parallel-item::before {content: \"\";position: absolute;border-left: 1px solid gray;box-sizing: border-box;top: 0;bottom: 0;left: 50%;z-index: -1;}#sk-container-id-3 div.sk-parallel-item {display: flex;flex-direction: column;z-index: 1;position: relative;background-color: white;}#sk-container-id-3 div.sk-parallel-item:first-child::after {align-self: flex-end;width: 50%;}#sk-container-id-3 div.sk-parallel-item:last-child::after {align-self: flex-start;width: 50%;}#sk-container-id-3 div.sk-parallel-item:only-child::after {width: 0;}#sk-container-id-3 div.sk-dashed-wrapped {border: 1px dashed gray;margin: 0 0.4em 0.5em 0.4em;box-sizing: border-box;padding-bottom: 0.4em;background-color: white;}#sk-container-id-3 div.sk-label label {font-family: monospace;font-weight: bold;display: inline-block;line-height: 1.2em;}#sk-container-id-3 div.sk-label-container {text-align: center;}#sk-container-id-3 div.sk-container {/* jupyter's `normalize.less` sets `[hidden] { display: none; }` but bootstrap.min.css set `[hidden] { display: none !important; }` so we also need the `!important` here to be able to override the default hidden behavior on the sphinx rendered scikit-learn.org. See: https://github.com/scikit-learn/scikit-learn/issues/21755 */display: inline-block !important;position: relative;}#sk-container-id-3 div.sk-text-repr-fallback {display: none;}</style><div id=\"sk-container-id-3\" class=\"sk-top-container\"><div class=\"sk-text-repr-fallback\"><pre>Pipeline(steps=[(&#x27;vectorizer&#x27;, TfidfVectorizer(ngram_range=(1, 3))),\n",
              "                (&#x27;dtc&#x27;, DecisionTreeClassifier())])</pre><b>In a Jupyter environment, please rerun this cell to show the HTML representation or trust the notebook. <br />On GitHub, the HTML representation is unable to render, please try loading this page with nbviewer.org.</b></div><div class=\"sk-container\" hidden><div class=\"sk-item sk-dashed-wrapped\"><div class=\"sk-label-container\"><div class=\"sk-label sk-toggleable\"><input class=\"sk-toggleable__control sk-hidden--visually\" id=\"sk-estimator-id-7\" type=\"checkbox\" ><label for=\"sk-estimator-id-7\" class=\"sk-toggleable__label sk-toggleable__label-arrow\">Pipeline</label><div class=\"sk-toggleable__content\"><pre>Pipeline(steps=[(&#x27;vectorizer&#x27;, TfidfVectorizer(ngram_range=(1, 3))),\n",
              "                (&#x27;dtc&#x27;, DecisionTreeClassifier())])</pre></div></div></div><div class=\"sk-serial\"><div class=\"sk-item\"><div class=\"sk-estimator sk-toggleable\"><input class=\"sk-toggleable__control sk-hidden--visually\" id=\"sk-estimator-id-8\" type=\"checkbox\" ><label for=\"sk-estimator-id-8\" class=\"sk-toggleable__label sk-toggleable__label-arrow\">TfidfVectorizer</label><div class=\"sk-toggleable__content\"><pre>TfidfVectorizer(ngram_range=(1, 3))</pre></div></div></div><div class=\"sk-item\"><div class=\"sk-estimator sk-toggleable\"><input class=\"sk-toggleable__control sk-hidden--visually\" id=\"sk-estimator-id-9\" type=\"checkbox\" ><label for=\"sk-estimator-id-9\" class=\"sk-toggleable__label sk-toggleable__label-arrow\">DecisionTreeClassifier</label><div class=\"sk-toggleable__content\"><pre>DecisionTreeClassifier()</pre></div></div></div></div></div></div></div>"
            ]
          },
          "metadata": {},
          "execution_count": 38
        }
      ]
    },
    {
      "cell_type": "code",
      "source": [
        "pred_dtc = pipe_dtc.predict(x_test)"
      ],
      "metadata": {
        "id": "ixvJbTV8iUX3"
      },
      "execution_count": 39,
      "outputs": []
    },
    {
      "cell_type": "code",
      "source": [
        "print(metrics.accuracy_score(y_test, pred_dtc)*100)\n",
        "sns.heatmap(metrics.confusion_matrix(y_test, pred_dtc))"
      ],
      "metadata": {
        "colab": {
          "base_uri": "https://localhost:8080/",
          "height": 466
        },
        "id": "gkcanr5AiUUH",
        "outputId": "d42e0800-34a1-41b8-a0c9-5241b60a6711"
      },
      "execution_count": 41,
      "outputs": [
        {
          "output_type": "stream",
          "name": "stdout",
          "text": [
            "92.49413604378421\n"
          ]
        },
        {
          "output_type": "execute_result",
          "data": {
            "text/plain": [
              "<Axes: >"
            ]
          },
          "metadata": {},
          "execution_count": 41
        },
        {
          "output_type": "display_data",
          "data": {
            "text/plain": [
              "<Figure size 640x480 with 2 Axes>"
            ],
            "image/png": "[encoded data removed]"
          },
          "metadata": {}
        }
      ]
    }
  ]
}